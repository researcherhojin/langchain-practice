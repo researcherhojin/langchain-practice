{
 "cells": [
  {
   "cell_type": "code",
   "execution_count": 1,
   "metadata": {},
   "outputs": [],
   "source": [
    "# 필요한 라이브러리 Import\n",
    "import json\n",
    "import os\n",
    "from typing import List, Dict, Optional, Union\n",
    "from datetime import datetime, timedelta\n",
    "from langchain_core.prompts import ChatPromptTemplate, FewShotChatMessagePromptTemplate, MessagesPlaceholder\n",
    "from langchain_openai import ChatOpenAI\n",
    "from langchain.memory import ConversationBufferMemory\n",
    "from langchain_core.runnables import RunnablePassthrough"
   ]
  },
  {
   "cell_type": "code",
   "execution_count": 2,
   "metadata": {},
   "outputs": [],
   "source": [
    "# Few-shot 예시 정의\n",
    "examples = [\n",
    "    {\n",
    "        \"movie\": \"탑건\",\n",
    "        \"emoji\": \"🛩️👨‍✈️🔥\",\n",
    "        \"explanation\": \"비행기(action), 파일럿(캐릭터), 불타는 액션(분위기)\",\n",
    "        \"genre\": \"액션, 드라마\"\n",
    "    },\n",
    "    {\n",
    "        \"movie\": \"대부\",\n",
    "        \"emoji\": \"👨‍👨‍👦🔫🍝\",\n",
    "        \"explanation\": \"가족(테마), 총기(범죄), 이탈리안 음식(문화)\",\n",
    "        \"genre\": \"범죄, 드라마\"\n",
    "    },\n",
    "    {\n",
    "        \"movie\": \"타이타닉\",\n",
    "        \"emoji\": \"🚢💑❄️\",\n",
    "        \"explanation\": \"배(배경), 로맨스(장르), 차가운 바다(결말)\",\n",
    "        \"genre\": \"로맨스, 드라마\"\n",
    "    },\n",
    "    {\n",
    "        \"movie\": \"쥬라기 공원\",\n",
    "        \"emoji\": \"🦖🏃💨\",\n",
    "        \"explanation\": \"공룡(주제), 도망치는 인간(액션), 긴박감(분위기)\",\n",
    "        \"genre\": \"SF, 어드벤처\"\n",
    "    }\n",
    "]"
   ]
  },
  {
   "cell_type": "code",
   "execution_count": 3,
   "metadata": {},
   "outputs": [],
   "source": [
    "# EnhancedMovieMemory 클래스 정의\n",
    "class EnhancedMovieMemory:\n",
    "    def __init__(self, save_path: str = \"movie_memory.json\"):\n",
    "        self.memory = ConversationBufferMemory(\n",
    "            return_messages=True,\n",
    "            memory_key=\"history\"\n",
    "        )\n",
    "        self.movie_history: List[Dict] = []\n",
    "        self.save_path = save_path\n",
    "        self.load_memory()\n",
    "\n",
    "    def save_memory(self):\n",
    "        \"\"\"메모리를 파일로 저장\"\"\"\n",
    "        with open(self.save_path, 'w', encoding='utf-8') as f:\n",
    "            json.dump(self.movie_history, f, ensure_ascii=False, indent=2)\n",
    "\n",
    "    def load_memory(self):\n",
    "        \"\"\"저장된 메모리 로드\"\"\"\n",
    "        if os.path.exists(self.save_path):\n",
    "            with open(self.save_path, 'r', encoding='utf-8') as f:\n",
    "                self.movie_history = json.load(f)\n",
    "\n",
    "    def add_movie(self, movie: str, emojis: str, explanation: str, genre: str):\n",
    "        \"\"\"영화 정보를 저장\"\"\"\n",
    "        self.movie_history.append({\n",
    "            \"timestamp\": datetime.now().strftime(\"%Y-%m-%d %H:%M:%S\"),\n",
    "            \"movie\": movie,\n",
    "            \"emojis\": emojis,\n",
    "            \"explanation\": explanation,\n",
    "            \"genre\": genre\n",
    "        })\n",
    "        self.save_memory()\n",
    "\n",
    "    def update_movie(self, movie: str, updates: Dict):\n",
    "        \"\"\"영화 정보 업데이트\"\"\"\n",
    "        for entry in self.movie_history:\n",
    "            if entry[\"movie\"].lower() == movie.lower():\n",
    "                entry.update(updates)\n",
    "                self.save_memory()\n",
    "                return True\n",
    "        return False\n",
    "\n",
    "    def delete_movie(self, movie: str) -> bool:\n",
    "        \"\"\"영화 정보 삭제\"\"\"\n",
    "        for i, entry in enumerate(self.movie_history):\n",
    "            if entry[\"movie\"].lower() == movie.lower():\n",
    "                del self.movie_history[i]\n",
    "                self.save_memory()\n",
    "                return True\n",
    "        return False\n",
    "\n",
    "    def get_movie_info(self, movie: str) -> Optional[Dict]:\n",
    "        \"\"\"특정 영화 정보 검색\"\"\"\n",
    "        for entry in self.movie_history:\n",
    "            if entry[\"movie\"].lower() == movie.lower():\n",
    "                return entry\n",
    "        return None\n",
    "\n",
    "    def get_all_movies(self) -> List[Dict]:\n",
    "        \"\"\"모든 영화 정보 반환\"\"\"\n",
    "        return self.movie_history\n",
    "\n",
    "    def get_movies_by_genre(self, genre: str) -> List[Dict]:\n",
    "        \"\"\"장르별 영화 검색\"\"\"\n",
    "        return [entry for entry in self.movie_history if genre.lower() in entry[\"genre\"].lower()]\n",
    "\n",
    "    def get_movies_by_timeframe(self, days: int = 7) -> List[Dict]:\n",
    "        \"\"\"최근 N일 동안의 영화 검색\"\"\"\n",
    "        cutoff_date = datetime.now() - timedelta(days=days)\n",
    "        return [\n",
    "            movie for movie in self.movie_history\n",
    "            if datetime.strptime(movie[\"timestamp\"], \"%Y-%m-%d %H:%M:%S\") > cutoff_date\n",
    "        ]\n",
    "\n",
    "    def get_movies_by_multiple_genres(self, genres: List[str]) -> List[Dict]:\n",
    "        \"\"\"다중 장르로 영화 검색\"\"\"\n",
    "        genres = [genre.lower() for genre in genres]\n",
    "        return [\n",
    "            movie for movie in self.movie_history\n",
    "            if any(genre in movie[\"genre\"].lower() for genre in genres)\n",
    "        ]\n",
    "\n",
    "    def get_statistics(self) -> Dict:\n",
    "        \"\"\"영화 데이터 통계\"\"\"\n",
    "        genres = {}\n",
    "        total_movies = len(self.movie_history)\n",
    "        \n",
    "        for movie in self.movie_history:\n",
    "            for genre in movie[\"genre\"].split(\", \"):\n",
    "                genres[genre] = genres.get(genre, 0) + 1\n",
    "\n",
    "        return {\n",
    "            \"total_movies\": total_movies,\n",
    "            \"genre_distribution\": genres,\n",
    "            \"most_common_genre\": max(genres.items(), key=lambda x: x[1])[0] if genres else None\n",
    "        }"
   ]
  },
  {
   "cell_type": "code",
   "execution_count": 4,
   "metadata": {},
   "outputs": [],
   "source": [
    "# 프롬프트 템플릿 생성\n",
    "example_prompt = ChatPromptTemplate.from_messages([\n",
    "    (\"human\", \"영화 '{movie}'를 3개의 이모티콘으로 표현해주세요.\"),\n",
    "    (\"assistant\", \"이 영화를 세 개의 이모티콘으로 표현하면 {emoji}입니다.\\n{explanation}\\n장르: {genre}\")\n",
    "])\n",
    "\n",
    "few_shot_prompt = FewShotChatMessagePromptTemplate(\n",
    "    example_prompt=example_prompt,\n",
    "    examples=examples,\n",
    ")\n",
    "\n",
    "final_prompt = ChatPromptTemplate.from_messages([\n",
    "    (\"system\", \"\"\"당신은 영화를 3개의 이모티콘으로 표현하는 전문가입니다. \n",
    "    각 이모티콘은 영화의 핵심 요소(캐릭터, 장르, 분위기, 주제 등)를 나타내야 합니다.\n",
    "    응답에는 반드시 영화의 장르도 포함해야 합니다.\"\"\"),\n",
    "    MessagesPlaceholder(variable_name=\"history\"),\n",
    "    few_shot_prompt,\n",
    "    (\"human\", \"영화 '{input}'를 3개의 이모티콘으로 표현해주세요.\"),\n",
    "])"
   ]
  },
  {
   "cell_type": "code",
   "execution_count": 5,
   "metadata": {},
   "outputs": [],
   "source": [
    "# 메모리 확인용 프롬프트\n",
    "memory_check_prompt = ChatPromptTemplate.from_messages([\n",
    "    (\"system\", \"\"\"당신은 이전 대화 기록을 분석하는 어시스턴트입니다.\n",
    "    대화 기록을 확인하고, 다음 형식으로 정리해주세요:\n",
    "    \n",
    "    === 시간순 영화 목록 ===\n",
    "    1. [시간] {첫 번째 영화} - {이모티콘}\n",
    "       장르: {장르}\n",
    "       설명: {설명}\n",
    "    \n",
    "    2. [시간] {두 번째 영화} - {이모티콘}\n",
    "       장르: {장르}\n",
    "       설명: {설명}\n",
    "    ...\"\"\"),\n",
    "    MessagesPlaceholder(variable_name=\"history\"),\n",
    "    (\"human\", \"{query}\")\n",
    "])"
   ]
  },
  {
   "cell_type": "code",
   "execution_count": 6,
   "metadata": {},
   "outputs": [
    {
     "name": "stderr",
     "output_type": "stream",
     "text": [
      "/var/folders/7p/6bdnyyl97jq1l0vwbrmy3k600000gn/T/ipykernel_20221/2986309006.py:4: LangChainDeprecationWarning: Please see the migration guide at: https://python.langchain.com/docs/versions/migrating_memory/\n",
      "  self.memory = ConversationBufferMemory(\n"
     ]
    }
   ],
   "source": [
    "# 모델과 메모리 초기화\n",
    "model = ChatOpenAI(model=\"gpt-4\", temperature=0.7)\n",
    "enhanced_memory = EnhancedMovieMemory()"
   ]
  },
  {
   "cell_type": "code",
   "execution_count": 7,
   "metadata": {},
   "outputs": [],
   "source": [
    "# LCEL 체인 구성\n",
    "chain = (\n",
    "    RunnablePassthrough.assign(\n",
    "        history=lambda x: enhanced_memory.memory.load_memory_variables({})[\"history\"]\n",
    "    )\n",
    "    | final_prompt \n",
    "    | model\n",
    ")\n",
    "\n",
    "memory_chain = (\n",
    "    RunnablePassthrough.assign(\n",
    "        history=lambda x: enhanced_memory.memory.load_memory_variables({})[\"history\"]\n",
    "    )\n",
    "    | memory_check_prompt\n",
    "    | ChatOpenAI(temperature=0)\n",
    ")"
   ]
  },
  {
   "cell_type": "code",
   "execution_count": 8,
   "metadata": {},
   "outputs": [],
   "source": [
    "# 실행 함수들\n",
    "def get_movie_emojis(movie_title: str):\n",
    "    \"\"\"영화 이모티콘 생성\"\"\"\n",
    "    response = chain.invoke({\"input\": movie_title})\n",
    "    \n",
    "    # 응답 파싱 및 저장\n",
    "    content = response.content\n",
    "    emojis = content.split(\"이모티콘으로 표현하면 \")[1].split(\"입니다.\")[0]\n",
    "    explanation = content.split(\"\\n\")[1] if \"\\n\" in content else \"\"\n",
    "    genre = content.split(\"장르: \")[1] if \"장르: \" in content else \"알 수 없음\"\n",
    "    \n",
    "    # 메모리에 저장\n",
    "    enhanced_memory.add_movie(movie_title, emojis, explanation, genre)\n",
    "    enhanced_memory.memory.save_context(\n",
    "        {\"input\": f\"영화 '{movie_title}'를 3개의 이모티콘으로 표현해주세요.\"},\n",
    "        {\"output\": response.content}\n",
    "    )\n",
    "    \n",
    "    return response.content\n",
    "\n",
    "def check_memory(query: str = \"지금까지 어떤 영화들을 분석했나요?\"):\n",
    "    \"\"\"메모리 확인\"\"\"\n",
    "    if not enhanced_memory.get_all_movies():\n",
    "        return \"아직 어떤 영화도 분석하지 않았습니다.\"\n",
    "    \n",
    "    response = memory_chain.invoke({\"query\": query})\n",
    "    return response.content\n",
    "\n",
    "def search_movie(movie_title: str):\n",
    "    \"\"\"특정 영화 검색\"\"\"\n",
    "    movie_info = enhanced_memory.get_movie_info(movie_title)\n",
    "    if not movie_info:\n",
    "        return f\"'{movie_title}' 영화에 대한 정보를 찾을 수 없습니다.\"\n",
    "    \n",
    "    return f\"\"\"\n",
    "=== {movie_info['movie']} ===\n",
    "시간: {movie_info['timestamp']}\n",
    "이모티콘: {movie_info['emojis']}\n",
    "설명: {movie_info['explanation']}\n",
    "장르: {movie_info['genre']}\n",
    "\"\"\"\n",
    "\n",
    "def search_by_genre(genre: str):\n",
    "    \"\"\"장르별 영화 검색\"\"\"\n",
    "    movies = enhanced_memory.get_movies_by_genre(genre)\n",
    "    if not movies:\n",
    "        return f\"'{genre}' 장르의 영화를 찾을 수 없습니다.\"\n",
    "    \n",
    "    result = f\"\\n=== {genre} 장르 영화 목록 ===\\n\"\n",
    "    for movie in movies:\n",
    "        result += f\"\\n{movie['movie']} - {movie['emojis']}\"\n",
    "    return result\n",
    "\n",
    "def get_movies_by_date(days: int = 7):\n",
    "    \"\"\"최근 N일 동안의 영화 조회\"\"\"\n",
    "    movies = enhanced_memory.get_movies_by_timeframe(days)\n",
    "    if not movies:\n",
    "        return f\"최근 {days}일 동안 분석한 영화가 없습니다.\"\n",
    "    \n",
    "    result = f\"\\n=== 최근 {days}일 영화 목록 ===\\n\"\n",
    "    for movie in movies:\n",
    "        result += f\"\\n[{movie['timestamp']}] {movie['movie']} - {movie['emojis']}\"\n",
    "    return result\n",
    "\n",
    "def get_movies_by_genres(genres: List[str]):\n",
    "    \"\"\"다중 장르 영화 검색\"\"\"\n",
    "    movies = enhanced_memory.get_movies_by_multiple_genres(genres)\n",
    "    if not movies:\n",
    "        return f\"{', '.join(genres)} 장르의 영화를 찾을 수 없습니다.\"\n",
    "    \n",
    "    result = f\"\\n=== {', '.join(genres)} 장르 영화 목록 ===\\n\"\n",
    "    for movie in movies:\n",
    "        result += f\"\\n{movie['movie']} - {movie['emojis']}\"\n",
    "    return result\n",
    "\n",
    "def get_movie_statistics():\n",
    "    \"\"\"영화 통계 조회\"\"\"\n",
    "    stats = enhanced_memory.get_statistics()\n",
    "    return f\"\"\"\n",
    "=== 영화 통계 ===\n",
    "총 영화 수: {stats['total_movies']}\n",
    "가장 많은 장르: {stats['most_common_genre']}\n",
    "\n",
    "장르별 분포:\n",
    "{chr(10).join(f'- {genre}: {count}편' for genre, count in stats['genre_distribution'].items())}\n",
    "\"\"\""
   ]
  },
  {
   "cell_type": "code",
   "execution_count": 9,
   "metadata": {},
   "outputs": [
    {
     "name": "stdout",
     "output_type": "stream",
     "text": [
      "첫 번째 영화:\n",
      "이 영화를 세 개의 이모티콘으로 표현하면 🕶️💊🐇입니다.\n",
      "선글라스(캐릭터), 알약(플롯), 흰 토끼(시뮬레이션 진입)\n",
      "장르: 액션, SF\n"
     ]
    }
   ],
   "source": [
    "print(\"첫 번째 영화:\")\n",
    "print(get_movie_emojis(\"매트릭스\"))"
   ]
  },
  {
   "cell_type": "code",
   "execution_count": 10,
   "metadata": {},
   "outputs": [
    {
     "name": "stdout",
     "output_type": "stream",
     "text": [
      "\n",
      "두 번째 영화:\n",
      "이 영화를 세 개의 이모티콘으로 표현하면 💭🌀⏱️입니다.\n",
      "꿈(플롯), 회오리(드림 레벨), 시계(시간 개념)\n",
      "장르: SF, 액션\n"
     ]
    }
   ],
   "source": [
    "print(\"\\n두 번째 영화:\")\n",
    "print(get_movie_emojis(\"인셉션\"))"
   ]
  },
  {
   "cell_type": "code",
   "execution_count": 11,
   "metadata": {},
   "outputs": [
    {
     "name": "stdout",
     "output_type": "stream",
     "text": [
      "\n",
      "세 번째 영화:\n",
      "이 영화를 세 개의 이모티콘으로 표현하면 ⚡👦🧙‍♂️입니다.\n",
      "번개 모양 흉터(캐릭터), 소년(주인공), 마법사(세계관)\n",
      "장르: 판타지, 모험\n"
     ]
    }
   ],
   "source": [
    "print(\"\\n세 번째 영화:\")\n",
    "print(get_movie_emojis(\"해리 포터\"))"
   ]
  },
  {
   "cell_type": "code",
   "execution_count": 12,
   "metadata": {},
   "outputs": [
    {
     "name": "stdout",
     "output_type": "stream",
     "text": [
      "\n",
      "네 번째 영화:\n",
      "이 영화를 세 개의 이모티콘으로 표현하면 💍🧝⛰️입니다.\n",
      "반지(플롯), 엘프(캐릭터), 산(목적지)\n",
      "장르: 판타지, 모험\n"
     ]
    }
   ],
   "source": [
    "print(\"\\n네 번째 영화:\")\n",
    "print(get_movie_emojis(\"반지의 제왕\"))"
   ]
  },
  {
   "cell_type": "code",
   "execution_count": 13,
   "metadata": {},
   "outputs": [
    {
     "name": "stdout",
     "output_type": "stream",
     "text": [
      "\n",
      "특정 영화 검색:\n",
      "\n",
      "=== 매트릭스 ===\n",
      "시간: 2024-12-12 23:57:30\n",
      "이모티콘: 🕶️💊🐇\n",
      "설명: 선글라스(캐릭터), 알약(플롯), 흰 토끼(시뮬레이션 진입)\n",
      "장르: 액션, SF\n",
      "\n"
     ]
    }
   ],
   "source": [
    "print(\"\\n특정 영화 검색:\")\n",
    "print(search_movie(\"매트릭스\"))"
   ]
  },
  {
   "cell_type": "code",
   "execution_count": 14,
   "metadata": {},
   "outputs": [
    {
     "name": "stdout",
     "output_type": "stream",
     "text": [
      "\n",
      "장르별 검색:\n",
      "\n",
      "=== SF 장르 영화 목록 ===\n",
      "\n",
      "매트릭스 - 🕶️💊🐇\n",
      "인셉션 - 💭🌀⏱️\n"
     ]
    }
   ],
   "source": [
    "print(\"\\n장르별 검색:\")\n",
    "print(search_by_genre(\"SF\"))"
   ]
  },
  {
   "cell_type": "code",
   "execution_count": 15,
   "metadata": {},
   "outputs": [
    {
     "name": "stdout",
     "output_type": "stream",
     "text": [
      "\n",
      "최근 영화 목록:\n",
      "\n",
      "=== 최근 7일 영화 목록 ===\n",
      "\n",
      "[2024-12-12 23:57:30] 매트릭스 - 🕶️💊🐇\n",
      "[2024-12-12 23:57:36] 인셉션 - 💭🌀⏱️\n",
      "[2024-12-12 23:57:41] 해리 포터 - ⚡👦🧙‍♂️\n",
      "[2024-12-12 23:57:51] 반지의 제왕 - 💍🧝⛰️\n"
     ]
    }
   ],
   "source": [
    "print(\"\\n최근 영화 목록:\")\n",
    "print(get_movies_by_date(7))"
   ]
  },
  {
   "cell_type": "code",
   "execution_count": 16,
   "metadata": {},
   "outputs": [
    {
     "name": "stdout",
     "output_type": "stream",
     "text": [
      "\n",
      "다중 장르 검색 (SF, 액션):\n",
      "\n",
      "=== SF, 액션 장르 영화 목록 ===\n",
      "\n",
      "매트릭스 - 🕶️💊🐇\n",
      "인셉션 - 💭🌀⏱️\n"
     ]
    }
   ],
   "source": [
    "print(\"\\n다중 장르 검색 (SF, 액션):\")\n",
    "print(get_movies_by_genres([\"SF\", \"액션\"]))"
   ]
  },
  {
   "cell_type": "code",
   "execution_count": 17,
   "metadata": {},
   "outputs": [
    {
     "name": "stdout",
     "output_type": "stream",
     "text": [
      "\n",
      "영화 통계:\n",
      "\n",
      "=== 영화 통계 ===\n",
      "총 영화 수: 4\n",
      "가장 많은 장르: 액션\n",
      "\n",
      "장르별 분포:\n",
      "- 액션: 2편\n",
      "- SF: 2편\n",
      "- 판타지: 2편\n",
      "- 모험: 2편\n",
      "\n"
     ]
    }
   ],
   "source": [
    "print(\"\\n영화 통계:\")\n",
    "print(get_movie_statistics())"
   ]
  }
 ],
 "metadata": {
  "kernelspec": {
   "display_name": "langchain",
   "language": "python",
   "name": "python3"
  },
  "language_info": {
   "codemirror_mode": {
    "name": "ipython",
    "version": 3
   },
   "file_extension": ".py",
   "mimetype": "text/x-python",
   "name": "python",
   "nbconvert_exporter": "python",
   "pygments_lexer": "ipython3",
   "version": "3.12.8"
  }
 },
 "nbformat": 4,
 "nbformat_minor": 2
}
