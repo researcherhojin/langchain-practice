{
 "cells": [
  {
   "cell_type": "code",
   "execution_count": 1,
   "metadata": {},
   "outputs": [],
   "source": [
    "from langchain_community.document_loaders import TextLoader\n",
    "from langchain_text_splitters import CharacterTextSplitter\n",
    "from langchain_openai import OpenAIEmbeddings, ChatOpenAI\n",
    "from langchain.embeddings import CacheBackedEmbeddings\n",
    "from langchain.storage import LocalFileStore\n",
    "from langchain_community.vectorstores import FAISS\n",
    "from langchain.memory import ConversationBufferMemory\n",
    "from langchain_core.prompts import ChatPromptTemplate, MessagesPlaceholder\n",
    "from langchain_core.runnables import RunnablePassthrough"
   ]
  },
  {
   "cell_type": "code",
   "execution_count": 2,
   "metadata": {},
   "outputs": [],
   "source": [
    "# 문서 로드\n",
    "loader = TextLoader(\"murder_mystery.txt\")\n",
    "documents = loader.load()"
   ]
  },
  {
   "cell_type": "code",
   "execution_count": 3,
   "metadata": {},
   "outputs": [
    {
     "name": "stderr",
     "output_type": "stream",
     "text": [
      "Created a chunk of size 2313, which is longer than the specified 2048\n",
      "Created a chunk of size 2247, which is longer than the specified 2048\n"
     ]
    }
   ],
   "source": [
    "# 문서 분할 설정 수정\n",
    "text_splitter = CharacterTextSplitter(\n",
    "    chunk_size=2048,\n",
    "    chunk_overlap=200,\n",
    "    separator=\"\\n\\n\"\n",
    ")\n",
    "\n",
    "splits = text_splitter.split_documents(documents)"
   ]
  },
  {
   "cell_type": "code",
   "execution_count": 4,
   "metadata": {},
   "outputs": [],
   "source": [
    "# 임베딩 생성 및 캐시 설정\n",
    "underlying_embeddings = OpenAIEmbeddings()\n",
    "fs = LocalFileStore(\"./cache/\")\n",
    "cached_embedder = CacheBackedEmbeddings.from_bytes_store(\n",
    "    underlying_embeddings,\n",
    "    fs,\n",
    "    namespace=underlying_embeddings.model\n",
    ")"
   ]
  },
  {
   "cell_type": "code",
   "execution_count": 5,
   "metadata": {},
   "outputs": [],
   "source": [
    "# FAISS 검색 설정\n",
    "vectorstore = FAISS.from_documents(splits, cached_embedder)"
   ]
  },
  {
   "cell_type": "code",
   "execution_count": 6,
   "metadata": {},
   "outputs": [],
   "source": [
    "# 검색 설정\n",
    "retriever = vectorstore.as_retriever(\n",
    "    search_kwargs={\n",
    "        \"k\": 6,  # 검색 결과 수 조정\n",
    "        \"fetch_k\": 10  # 필터링 전 검색할 문서 수\n",
    "    }\n",
    ")"
   ]
  },
  {
   "cell_type": "code",
   "execution_count": 7,
   "metadata": {},
   "outputs": [],
   "source": [
    "# 프롬프트 템플릿\n",
    "prompt = ChatPromptTemplate.from_messages([\n",
    "    (\"system\", \"\"\"당신은 주어진 텍스트에 대해서 분석하는 문학 전문가입니다. \n",
    "    주어진 context를 바탕으로 질문에 정확하고 상세하게 답변해주세요.\n",
    "    \n",
    "    답변 시 주의사항:\n",
    "    1. context에서 찾을 수 있는 구체적인 내용을 포함해주세요\n",
    "    2. 등장인물의 행동이나 대화를 인용하면서 설명해주세요\n",
    "    3. 답을 모르는 경우, 명확히 모른다고 답변해주세요\n",
    "    4. 답변의 근거가 되는 내용을 context에서 찾아 설명해주세요\n",
    "    \n",
    "    Context: {context}\"\"\"),\n",
    "    MessagesPlaceholder(variable_name=\"history\"),\n",
    "    (\"human\", \"{question}\")\n",
    "])"
   ]
  },
  {
   "cell_type": "code",
   "execution_count": 8,
   "metadata": {},
   "outputs": [
    {
     "name": "stderr",
     "output_type": "stream",
     "text": [
      "/var/folders/7p/6bdnyyl97jq1l0vwbrmy3k600000gn/T/ipykernel_17366/851550066.py:2: LangChainDeprecationWarning: Please see the migration guide at: https://python.langchain.com/docs/versions/migrating_memory/\n",
      "  memory = ConversationBufferMemory(\n"
     ]
    }
   ],
   "source": [
    "# 메모리 설정\n",
    "memory = ConversationBufferMemory(\n",
    "    return_messages=True,\n",
    "    memory_key=\"history\"\n",
    ")"
   ]
  },
  {
   "cell_type": "code",
   "execution_count": 9,
   "metadata": {},
   "outputs": [],
   "source": [
    "# LLM 설정\n",
    "model = ChatOpenAI(\n",
    "    model=\"gpt-4o-mini-2024-07-18\",\n",
    "    temperature=0.1\n",
    ")"
   ]
  },
  {
   "cell_type": "code",
   "execution_count": 10,
   "metadata": {},
   "outputs": [],
   "source": [
    "# RAG 체인 구성\n",
    "chain = (\n",
    "    {\n",
    "        \"context\": retriever,\n",
    "        \"question\": RunnablePassthrough(),\n",
    "        \"history\": lambda x: memory.load_memory_variables({})[\"history\"]\n",
    "    }\n",
    "    | prompt\n",
    "    | model\n",
    ")"
   ]
  },
  {
   "cell_type": "code",
   "execution_count": 11,
   "metadata": {},
   "outputs": [],
   "source": [
    "# 질문 함수 정의\n",
    "def ask_question(question: str):\n",
    "    response = chain.invoke(question)\n",
    "    # 대화 저장\n",
    "    memory.save_context(\n",
    "        {\"input\": question},\n",
    "        {\"output\": response.content}\n",
    "    )\n",
    "    return response.content"
   ]
  },
  {
   "cell_type": "code",
   "execution_count": 12,
   "metadata": {},
   "outputs": [
    {
     "name": "stdout",
     "output_type": "stream",
     "text": [
      "\n",
      "Question: Aaronson은 유죄인가요?\n",
      "Answer: 주어진 context에서는 Aaronson이 유죄라는 주장이 있습니다. Winston은 \"Jones, Aaronson, and Rutherford were guilty of the crimes they were charged with\"라고 언급하며, 그들이 유죄라는 것을 받아들이고 있습니다. 그러나 Winston은 나중에 \"He had never seen the photograph that disproved their guilt. It had never existed, he had invented it\"라고 회상하며, 자신의 기억이 왜곡되었음을 깨닫습니다. 이는 Aaronson이 실제로 유죄가 아닐 수도 있음을 암시합니다. 따라서, Aaronson의 유죄 여부는 확실하지 않으며, Winston의 인식과 당국의 주장 사이에 모순이 존재합니다.\n",
      "\n",
      "\n",
      "Question: 그가 테이블에 어떤 메시지를 썼나요?\n",
      "Answer: Winston은 테이블에 다음과 같은 메시지를 썼습니다:\n",
      "\n",
      "1. \"FREEDOM IS SLAVERY\"\n",
      "2. \"TWO AND TWO MAKE FIVE\"\n",
      "3. \"GOD IS POWER\"\n",
      "\n",
      "이 메시지들은 Winston이 당국의 사상에 순응하려고 노력하는 과정에서 나타나는 그의 생각을 반영합니다. 그는 처음에 \"FREEDOM IS SLAVERY\"를 대문자로 썼고, 그 다음에 \"TWO AND TWO MAKE FIVE\"를 적었습니다. 그러나 그가 다음에 적으려 할 때, 그의 마음이 뭔가를 회피하는 듯한 느낌을 받았고, 결국 \"GOD IS POWER\"를 적었습니다. 이러한 과정은 그가 당국의 세뇌와 통제에 굴복하고 있음을 보여줍니다.\n",
      "\n",
      "\n",
      "Question: Julia 는 누구인가요?\n",
      "Answer: Julia는 Winston의 사랑하는 사람으로, 그들의 관계는 주어진 context에서 중요한 역할을 합니다. Winston은 Julia를 깊이 사랑하고 있으며, 그녀와의 관계는 그가 당국에 맞서 싸우는 데 있어 중요한 요소로 작용합니다. 예를 들어, Winston은 \"Julia! Julia! Julia, my love! Julia!\"라고 외치며 그녀에 대한 강한 감정을 드러냅니다. \n",
      "\n",
      "그들의 관계는 비밀스럽고 금지된 것이며, Winston은 그녀를 보호하고 싶어하는 강한 욕망을 가지고 있습니다. 그러나 torture를 받는 과정에서 Winston은 \"Do it to Julia! Not me! Julia!\"라고 외치며, 자신의 고통을 Julia에게 전가하고 싶어하는 모습을 보입니다. 이는 그가 Julia에 대한 사랑과 동시에 자신의 생존 본능이 충돌하는 복잡한 감정을 나타냅니다. \n",
      "\n",
      "결국, Julia는 Winston의 삶에서 중요한 인물이며, 그들의 사랑은 전체 이야기의 중심 주제 중 하나입니다.\n",
      "\n"
     ]
    }
   ],
   "source": [
    "# 질문하기\n",
    "questions = [\n",
    "    \"Aaronson은 유죄인가요?\",\n",
    "    \"그가 테이블에 어떤 메시지를 썼나요?\",\n",
    "    \"Julia 는 누구인가요?\"\n",
    "]\n",
    "\n",
    "for question in questions:\n",
    "    print(f\"\\nQuestion: {question}\")\n",
    "    print(f\"Answer: {ask_question(question)}\\n\")"
   ]
  }
 ],
 "metadata": {
  "kernelspec": {
   "display_name": "langchain",
   "language": "python",
   "name": "python3"
  },
  "language_info": {
   "codemirror_mode": {
    "name": "ipython",
    "version": 3
   },
   "file_extension": ".py",
   "mimetype": "text/x-python",
   "name": "python",
   "nbconvert_exporter": "python",
   "pygments_lexer": "ipython3",
   "version": "3.12.8"
  }
 },
 "nbformat": 4,
 "nbformat_minor": 2
}
