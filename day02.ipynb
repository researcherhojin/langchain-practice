{
 "cells": [
  {
   "cell_type": "code",
   "execution_count": 1,
   "metadata": {},
   "outputs": [],
   "source": [
    "# 필요한 라이브러리 Import\n",
    "from langchain_core.prompts import ChatPromptTemplate, FewShotChatMessagePromptTemplate\n",
    "from langchain_openai import ChatOpenAI\n",
    "from langchain.callbacks.streaming_stdout import StreamingStdOutCallbackHandler"
   ]
  },
  {
   "cell_type": "code",
   "execution_count": 2,
   "metadata": {},
   "outputs": [],
   "source": [
    "# 영화 예시 데이터 정의\n",
    "examples = [\n",
    "    {\n",
    "        \"title\": \"인셉션 (Inception)\",\n",
    "        \"info\": \"\"\"감독: 크리스토퍼 놀란\n",
    "주연: 레오나르도 디카프리오, 조셉 고든 레빗, 엘렌 페이지\n",
    "예산: $160,000,000\n",
    "수익: $836,836,967\n",
    "장르: SF, 액션, 스릴러\n",
    "시놉시스: 꿈의 세계에서 타인의 생각을 훔치는 특수 보안 전문가가 '인셉션'이라는 \n",
    "생각을 심는 미션을 수행하게 되면서 벌어지는 이야기\"\"\"\n",
    "    },\n",
    "    {\n",
    "        \"title\": \"어벤져스: 엔드게임 (Avengers: Endgame)\",\n",
    "        \"info\": \"\"\"감독: 안소니 루소, 조 루소\n",
    "주연: 로버트 다우니 주니어, 크리스 에반스, 스칼렛 요한슨\n",
    "예산: $356,000,000\n",
    "수익: $2,797,501,328\n",
    "장르: 액션, SF, 어드벤처\n",
    "시놉시스: 타노스의 핑거스냅으로 절반의 생명이 사라진 후, 남은 어벤져스 멤버들이 \n",
    "동료들을 되살리기 위한 마지막 역전의 기회에 도전하는 이야기\"\"\"\n",
    "    },\n",
    "    {\n",
    "        \"title\": \"기생충 (Parasite)\",\n",
    "        \"info\": \"\"\"감독: 봉준호\n",
    "주연: 송강호, 조여정, 최우식, 박소담\n",
    "예산: $11,400,000\n",
    "수익: $258,773,645\n",
    "장르: 드라마, 스릴러, 블랙 코미디\n",
    "시놉시스: 전원 백수인 기택네 가족이 부유한 박사장네 가족의 집에 하나둘 침투하며 \n",
    "벌어지는 예측할 수 없는 이야기\"\"\"\n",
    "    }\n",
    "]"
   ]
  },
  {
   "cell_type": "code",
   "execution_count": 3,
   "metadata": {},
   "outputs": [],
   "source": [
    "# 예시 프롬프트 템플릿 생성\n",
    "example_prompt = ChatPromptTemplate.from_messages([\n",
    "    (\"human\", \"영화 {title}에 대해 알려주세요.\"),\n",
    "    (\"assistant\", \"{info}\")\n",
    "])\n",
    "\n",
    "few_shot_prompt = FewShotChatMessagePromptTemplate(\n",
    "    example_prompt=example_prompt,\n",
    "    examples=examples,\n",
    ")\n",
    "\n",
    "# 최종 프롬프트 템플릿 생성\n",
    "final_prompt = ChatPromptTemplate.from_messages([\n",
    "    (\"system\", \"\"\"당신은 영화 정보를 제공하는 전문가입니다. \n",
    "    요청받은 영화에 대해 다음 형식으로 정보를 제공해주세요:\n",
    "    \n",
    "    감독: [감독 이름]\n",
    "    주연: [주요 배우들]\n",
    "    예산: [제작 예산]\n",
    "    수익: [전세계 흥행 수익]\n",
    "    장르: [영화 장르]\n",
    "    시놉시스: [간단한 줄거리]\n",
    "    \"\"\"),\n",
    "    few_shot_prompt,\n",
    "    (\"human\", \"영화 {input}에 대해 알려주세요.\"),\n",
    "])"
   ]
  },
  {
   "cell_type": "code",
   "execution_count": null,
   "metadata": {},
   "outputs": [],
   "source": [
    "# 스트리밍 설정으로 모델 초기화\n",
    "model = ChatOpenAI(\n",
    "    model=\"gpt-4o-mini-2024-07-18\",\n",
    "    temperature=0.1,\n",
    "    streaming=True,\n",
    "    callbacks=[StreamingStdOutCallbackHandler()]\n",
    ")\n",
    "\n",
    "# 체인 구성\n",
    "chain = final_prompt | model"
   ]
  },
  {
   "cell_type": "code",
   "execution_count": 5,
   "metadata": {},
   "outputs": [
    {
     "name": "stdout",
     "output_type": "stream",
     "text": [
      "감독: 라나 워쇼스키, 리리 워쇼스키\n",
      "주연: 키아누 리브스, 로리 앤서니, 캐리 앤 모스\n",
      "예산: $63,000,000\n",
      "수익: $463,517,383\n",
      "장르: 액션, SF\n",
      "시놉시스: 현실과 가상 세계의 경계가 모호해진 미래에서, 해커 네오가 인류를 지배하는 \n",
      "기계들과의 전쟁에 휘말리며 진정한 현실을 깨닫고 인류의 구원자로 성장하는 이야기"
     ]
    }
   ],
   "source": [
    "# 영화 정보 요청\n",
    "response = chain.invoke({\"input\": \"매트릭스 (The Matrix)\"})"
   ]
  },
  {
   "cell_type": "code",
   "execution_count": 6,
   "metadata": {},
   "outputs": [
    {
     "name": "stdout",
     "output_type": "stream",
     "text": [
      "해리 포터 시리즈는 여러 편으로 구성되어 있으므로, 첫 번째 영화인 \"해리 포터와 마법사의 돌\"에 대한 정보를 제공하겠습니다.\n",
      "\n",
      "감독: 크리스 콜럼버스  \n",
      "주연: 다니엘 래드클리프, 엠마 왓슨, 루퍼트 그린트  \n",
      "예산: $125,000,000  \n",
      "수익: $974,755,371  \n",
      "장르: 판타지, 어드벤처  \n",
      "시놉시스: 평범한 소년 해리 포터가 자신의 마법사 혈통을 알게 되고, 호그와트 마법학교에 입학하여 친구들과 함께 마법의 세계에서 모험을 겪으며 악의 세력과 맞서 싸우는 이야기입니다."
     ]
    }
   ],
   "source": [
    "# 영화 정보 요청\n",
    "response = chain.invoke({\"input\": \"해리포터 (Harry Potter)\"})"
   ]
  }
 ],
 "metadata": {
  "kernelspec": {
   "display_name": "langchain",
   "language": "python",
   "name": "python3"
  },
  "language_info": {
   "codemirror_mode": {
    "name": "ipython",
    "version": 3
   },
   "file_extension": ".py",
   "mimetype": "text/x-python",
   "name": "python",
   "nbconvert_exporter": "python",
   "pygments_lexer": "ipython3",
   "version": "3.12.8"
  }
 },
 "nbformat": 4,
 "nbformat_minor": 2
}
